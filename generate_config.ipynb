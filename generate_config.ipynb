{
 "cells": [
  {
   "cell_type": "code",
   "execution_count": 1,
   "metadata": {
    "pycharm": {
     "name": "#%%\n"
    }
   },
   "outputs": [],
   "source": [
    "from starcli.layouts import print_results, shorten_count\n",
    "from starcli.search import (\n",
    "    search,\n",
    "    debug_requests_on,\n",
    "    search_github_trending,\n",
    "    search_error,\n",
    "    status_actions,\n",
    ")\n",
    "from xdg import xdg_cache_home\n",
    "import re\n",
    "import json\n",
    "import os\n",
    "from datetime import datetime, timedelta\n",
    "import subprocess\n",
    "import time\n",
    "\n",
    "from bilibiliuploader.bilibiliuploader import BilibiliUploader\n",
    "from bilibiliuploader.core import VideoPart\n",
    "\n",
    "from git import Repo\n",
    "import docker\n",
    "import shutil\n",
    "import glob\n",
    "import random\n",
    "from PIL import Image, ImageFont, ImageDraw\n",
    "import glob\n",
    "import requests\n",
    "\n",
    "import urllib\n",
    "\n",
    "import ssl\n",
    "\n",
    "# could be made into config option in the future\n",
    "CACHED_RESULT_PATH = xdg_cache_home() / \"starcli.json\"\n",
    "CACHE_EXPIRATION = 1  # Minutes"
   ]
  },
  {
   "cell_type": "code",
   "execution_count": 2,
   "metadata": {
    "pycharm": {
     "name": "#%%\n"
    }
   },
   "outputs": [],
   "source": [
    "\n",
    "def _cli(\n",
    "    lang='',\n",
    "    spoken_language='',\n",
    "    created='',\n",
    "    topic=[],\n",
    "    pushed='',\n",
    "    layout='list',\n",
    "    stars='>=100',\n",
    "    limit_results=10,\n",
    "    order='desc',\n",
    "    long_stats=True,\n",
    "    date_range='today',\n",
    "    user='',\n",
    "    debug=False,\n",
    "    auth=\"\",\n",
    "    pager=False,\n",
    "):\n",
    "    \"\"\"Find trending repos on GitHub\"\"\"\n",
    "    if debug:\n",
    "        import logging\n",
    "\n",
    "        debug_requests_on()\n",
    "\n",
    "    tmp_repos = None\n",
    "    options_key = \"{lang}_{spoken_language}_{created}_{topic}_{pushed}_{stars}_{order}_{date_range}_{user}\".format(\n",
    "        lang=lang,\n",
    "        spoken_language=spoken_language,\n",
    "        created=created,\n",
    "        topic=topic,\n",
    "        pushed=pushed,\n",
    "        stars=stars,\n",
    "        order=order,\n",
    "        date_range=date_range,\n",
    "        user=user,\n",
    "    )\n",
    "\n",
    "    if os.path.exists(CACHED_RESULT_PATH):\n",
    "        with open(CACHED_RESULT_PATH, \"r\") as f:\n",
    "            json_file = json.load(f)\n",
    "            result = json_file.get(options_key)\n",
    "            if result:\n",
    "                t = result[-1].get(\"time\")\n",
    "                time = datetime.strptime(t, \"%Y-%m-%d %H:%M:%S.%f\")\n",
    "                diff = datetime.now() - time\n",
    "                if diff < timedelta(minutes=CACHE_EXPIRATION):\n",
    "                    if debug:\n",
    "                        logger = logging.getLogger(__name__)\n",
    "                        logger.debug(\"Fetching results from cache\")\n",
    "\n",
    "                    tmp_repos = result\n",
    "\n",
    "    if not tmp_repos:  # If cache expired or results not yet cached\n",
    "\n",
    "        if (\n",
    "            not spoken_language and not date_range\n",
    "        ):  # if filtering by spoken language and date range not required\n",
    "            tmp_repos = search(\n",
    "                lang, created, pushed, stars, topic, user, debug, order, auth\n",
    "            )\n",
    "        else:\n",
    "            tmp_repos = search_github_trending(\n",
    "                lang, spoken_language, order, stars, date_range\n",
    "            )\n",
    "\n",
    "        if not tmp_repos:  # if search() returned None\n",
    "            return\n",
    "        else:  # Cache results\n",
    "            tmp_repos.append({\"time\": str(datetime.now())})\n",
    "            with open(CACHED_RESULT_PATH, \"a+\") as f:\n",
    "                if os.path.getsize(CACHED_RESULT_PATH) == 0:  # file is empty\n",
    "                    result_dict = {options_key: tmp_repos}\n",
    "                    f.write(json.dumps(result_dict, indent=4))\n",
    "                else:  # file is not empty\n",
    "                    f.seek(0)\n",
    "                    result_dict = json.load(f)\n",
    "                    result_dict[options_key] = tmp_repos\n",
    "                    f.truncate(0)\n",
    "                    f.write(json.dumps(result_dict, indent=4))\n",
    "\n",
    "    repos = tmp_repos[0:limit_results]\n",
    "\n",
    "    if not long_stats:  # shorten the stat counts when not --long-stats\n",
    "        for repo in repos:\n",
    "            repo[\"stargazers_count\"] = shorten_count(repo[\"stargazers_count\"])\n",
    "            repo[\"watchers_count\"] = shorten_count(repo[\"watchers_count\"])\n",
    "            if \"date_range\" in repo.keys() and repo[\"date_range\"]:\n",
    "                num_stars = repo[\"date_range\"].split()[0]\n",
    "                repo[\"date_range\"] = repo[\"date_range\"].replace(\n",
    "                    num_stars, str(shorten_count(int(num_stars.replace(\",\", \"\"))))\n",
    "                )\n",
    "    return repos\n"
   ]
  },
  {
   "cell_type": "code",
   "execution_count": 3,
   "metadata": {
    "pycharm": {
     "name": "#%%\n"
    }
   },
   "outputs": [],
   "source": [
    "def _now():\n",
    "    return time.strftime(\"%Y-%m-%d\", time.localtime()) \n",
    "\n",
    "def _month_ago():\n",
    "    return (datetime.now()-timedelta(days =30)).strftime(\"%Y-%m-%d\")"
   ]
  },
  {
   "cell_type": "code",
   "execution_count": 16,
   "metadata": {},
   "outputs": [],
   "source": [
    "\n",
    "\n",
    "\n",
    "\n",
    "\n",
    "def get_url():\n",
    "    time = datetime.now()\n",
    "    # from insert_to import insert\n",
    "    start_url = \"https://www.bing.com/HPImageArchive.aspx?format=js&idx=0&n=1\"\n",
    "    # context = ssl._create_unverified_context()\n",
    "    ssl._create_default_https_context = ssl._create_unverified_context\n",
    "    response = requests.get(start_url)\n",
    "    url = \"https://www.bing.com\" + response.json()['images'][0]['url']\n",
    "    image_name = response.json()['images'][0]['copyright'].split(\n",
    "        '(')[0] + '.jpg'\n",
    "    filename = f'images/{time.year}-{time.month}-{time.day}.jpg'\n",
    "    urllib.request.urlretrieve(url, filename)\n",
    "    "
   ]
  },
  {
   "cell_type": "code",
   "execution_count": 17,
   "metadata": {
    "pycharm": {
     "name": "#%%\n"
    }
   },
   "outputs": [],
   "source": [
    "def _select_music_as_background():\n",
    "    musics = glob.glob('mp3s/*mp3')\n",
    "    random_music = random.choice(musics)\n",
    "    shutil.copy2(random_music, 'mp3s/background.mp3')\n",
    "    return os.path.basename(random_music).replace('.mp3', '')\n"
   ]
  },
  {
   "cell_type": "code",
   "execution_count": 18,
   "metadata": {},
   "outputs": [],
   "source": [
    "def generate_show_photo(lang, name, n, imagefile='background.png',):\n",
    " \n",
    "    image = Image.open(imagefile)\n",
    "    title_font = ImageFont.truetype('Pacifico.ttf', 100)\n",
    "    title_text = f'''{_now()}\n",
    "Github Trending \n",
    "{lang}:{n}\n",
    "{name}'''\n",
    "    image_editable = ImageDraw.Draw(image)\n",
    "    image_editable.text((15, 315), title_text,\n",
    "                        (237, 230, 211), font=title_font)\n",
    "    image.save(f'figures/{lang}_{n}.png')\n"
   ]
  },
  {
   "cell_type": "code",
   "execution_count": 19,
   "metadata": {
    "pycharm": {
     "name": "#%%\n"
    }
   },
   "outputs": [],
   "source": [
    "def _generate_ga_config(info_list,  lang):\n",
    "    default_config = f'''\n",
    "name: github_trending_{lang}\n",
    "on:\n",
    "  schedule:\n",
    "    - cron: \"0 5 * * *\"\n",
    "  workflow_dispatch:\n",
    "jobs:\n",
    "    '''\n",
    "    for i, j in enumerate(info_list):\n",
    "        files = glob.glob('images/*')\n",
    "        generate_show_photo( lang, j[\"name\"], i,random.choice(files))\n",
    "        config = f'configs/{j[\"name\"]}.json'\n",
    "        with open(config, 'w') as f:\n",
    "            json.dump(j, f, indent=4)\n",
    "        default_config += f'''\n",
    "  {lang}_github_trending_{i}:\n",
    "    runs-on: ubuntu-latest\n",
    "    steps:\n",
    "      - uses: actions/setup-python@v4\n",
    "        with:\n",
    "          python-version: \"3.10\"\n",
    "      - uses: actions/checkout@v2\n",
    "      - name: get Environment\n",
    "        run: |\n",
    "          sudo apt update\n",
    "          sudo apt install ffmpeg\n",
    "          export refresh_token=\"${{{{ secrets.refresh_token }}}}\"\n",
    "          export access_token=\"${{{{ secrets.access_token }}}}\"\n",
    "          export json_file={config}\n",
    "          export number={i}\n",
    "          export language={lang}\n",
    "          pip install git+https://github.com/FortuneDayssss/BilibiliUploader.git\n",
    "          pip install -r requirements.txt\n",
    "          # wecover \"GithubTrending_{lang}_{j['name']}\"\n",
    "          export jpg=\"figures/{lang}_{i}.png\"\n",
    "          python run.py        \n",
    "'''\n",
    "\n",
    "    return default_config\n"
   ]
  },
  {
   "cell_type": "code",
   "execution_count": 20,
   "metadata": {
    "pycharm": {
     "name": "#%%\n"
    }
   },
   "outputs": [],
   "source": [
    "def main(lang):\n",
    "    \n",
    "    info_list = _cli(lang)\n",
    "    today = _now()\n",
    "    with open(f'.github/workflows/github_trending_{lang}.yaml', 'w') as f:\n",
    "        f.write(_generate_ga_config(info_list,  lang))\n",
    "   \n"
   ]
  },
  {
   "cell_type": "code",
   "execution_count": 21,
   "metadata": {
    "pycharm": {
     "name": "#%%\n"
    }
   },
   "outputs": [],
   "source": [
    "if __name__ == '__main__':\n",
    "    get_url()\n",
    "    main('python')\n",
    "    main('java')\n",
    "    main('javascript')\n",
    "    main('go')\n",
    "    main('R')\n",
    "    main('c')"
   ]
  },
  {
   "cell_type": "markdown",
   "metadata": {
    "pycharm": {
     "name": "#%%\n"
    }
   },
   "source": []
  },
  {
   "cell_type": "code",
   "execution_count": 16,
   "metadata": {},
   "outputs": [],
   "source": []
  },
  {
   "cell_type": "code",
   "execution_count": null,
   "metadata": {},
   "outputs": [],
   "source": []
  }
 ],
 "metadata": {
  "kernelspec": {
   "display_name": "Python 3.8.13 ('jtv')",
   "language": "python",
   "name": "python3"
  },
  "language_info": {
   "codemirror_mode": {
    "name": "ipython",
    "version": 3
   },
   "file_extension": ".py",
   "mimetype": "text/x-python",
   "name": "python",
   "nbconvert_exporter": "python",
   "pygments_lexer": "ipython3",
   "version": "3.8.13"
  },
  "orig_nbformat": 4,
  "vscode": {
   "interpreter": {
    "hash": "10f2cbf92c41c74dc040668db41b18414a6c79d75d92825dbf20ce833c77f1ce"
   }
  }
 },
 "nbformat": 4,
 "nbformat_minor": 2
}
