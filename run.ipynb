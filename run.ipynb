{
 "cells": [
  {
   "cell_type": "code",
   "execution_count": 48,
   "metadata": {},
   "outputs": [],
   "source": [
    "\n",
    "import re\n",
    "import json\n",
    "import os\n",
    "from datetime import datetime, timedelta\n",
    "import subprocess\n",
    "import time\n",
    "\n",
    "from bilibiliuploader.bilibiliuploader import BilibiliUploader\n",
    "from bilibiliuploader.core import VideoPart\n",
    "\n",
    "from git import Repo\n",
    "import docker\n",
    "import shutil\n",
    "import glob\n",
    "import random\n",
    "\n"
   ]
  },
  {
   "cell_type": "code",
   "execution_count": 58,
   "metadata": {},
   "outputs": [],
   "source": [
    "def _select_music_as_background():\n",
    "    musics = glob.glob('mp3s/*mp3')\n",
    "    random_music = random.choice(musics)\n",
    "    shutil.copy2(random_music, 'mp3s/background.mp3')\n",
    "    return os.path.basename(random_music).replace('.mp3', '')\n"
   ]
  },
  {
   "cell_type": "code",
   "execution_count": 1,
   "metadata": {},
   "outputs": [],
   "source": [
    "def _now():\n",
    "    return time.strftime(\"%Y-%m-%d\", time.localtime())\n",
    "\n",
    "\n",
    "def _month_ago():\n",
    "    return (datetime.now()-timedelta(days=30)).strftime(\"%Y-%m-%d\")\n"
   ]
  },
  {
   "cell_type": "code",
   "execution_count": 59,
   "metadata": {},
   "outputs": [],
   "source": [
    "def _generate_video():\n",
    "    info=json.load(open(os.environ['json_file']))\n",
    "    pwd = os.getcwd()\n",
    "    client = docker.from_env()\n",
    "    client.containers.run(image='utensils/envisaged',\n",
    "                          remove=True,\n",
    "                          volumes=[f'{pwd}/mp3s/background.mp3:/tmp/background.mp3',\n",
    "                                   f'{pwd}/border_template.sh:/visualization/border_template.sh',\n",
    "                                   f'{pwd}/results/:/visualization/output/', f'{pwd}/docker-entrypoint.sh:/usr/local/bin/entrypoint.sh'],\n",
    "                          environment=[\n",
    "                              f'''GIT_URL={info[\"html_url\"]}''',\n",
    "                              f'''GOURCE_TITLE=\"{info['name']}\"''',\n",
    "                              'mp3=/tmp/background.mp3',\n",
    "                              'VIDEO_RESOLUTION=2160p',\n",
    "                              'GOURCE_SECONDS_PER_DAY=3'\n",
    "                          ])\n",
    "    os.rename('results/output.mp4', 'wait_uploads/{}.mp4'.format(info['name']))\n",
    "    return 'wait_uploads/{}.mp4'.format(info['name']),info\n"
   ]
  },
  {
   "cell_type": "code",
   "execution_count": 4,
   "metadata": {},
   "outputs": [],
   "source": [
    "def _up_load(video, music, info, now,lang):\n",
    "    uploader = BilibiliUploader()\n",
    "    uploader.login_by_access_token(os.environ['access_token'], os.environ['refresh_token'])\n",
    "    parts = [\n",
    "        VideoPart(\n",
    "            path=video,\n",
    "            title=f'{now}: Github Trending of {lang} : {int(os.environ[\"number\"])+1} - {info[\"name\"]}',\n",
    "            desc=f'''\n",
    "bgm: {music}\n",
    "repo: {info['html_url']}\n",
    "stars: {info['stargazers_count']}\n",
    "description: {info['description']}\n",
    "Stars today: {info['date_range']}\n",
    "            '''\n",
    "        )\n",
    "    ]\n",
    "    \n",
    "    avid, bvid = uploader.upload(\n",
    "        parts=parts,\n",
    "        copyright=1,\n",
    "        title=f'{now}: Github Trending of {lang} : {int(os.environ[\"number\"])+1} - {info[\"name\"]}',\n",
    "        tid=95,\n",
    "        tag=f\"{lang},{info['name']},{now}\",\n",
    "        desc=f'''\n",
    "bgm: {music}\n",
    "repo: {info['html_url']}\n",
    "stars: {info['stargazers_count']}\n",
    "description: {info['description']}\n",
    "Stars today: {info['date_range']}\n",
    "            ''',\n",
    "        source='Github Trending',\n",
    "        thread_pool_workers=5,\n",
    "    )"
   ]
  },
  {
   "cell_type": "code",
   "execution_count": null,
   "metadata": {},
   "outputs": [],
   "source": [
    "def main():\n",
    "    lang = os.environ['language']\n",
    "    today = _now()\n",
    "    music = _select_music_as_background()\n",
    "    print(lang,today,music,os.environ['number'])\n",
    "    video, info = _generate_video()\n",
    "    _up_load(video, music, info, today, lang)\n"
   ]
  },
  {
   "cell_type": "code",
   "execution_count": null,
   "metadata": {},
   "outputs": [],
   "source": [
    "if __name__ == '__main__':\n",
    "    main()"
   ]
  }
 ],
 "metadata": {
  "kernelspec": {
   "display_name": "Python 3.8.13 ('jtv')",
   "language": "python",
   "name": "python3"
  },
  "language_info": {
   "codemirror_mode": {
    "name": "ipython",
    "version": 3
   },
   "file_extension": ".py",
   "mimetype": "text/x-python",
   "name": "python",
   "nbconvert_exporter": "python",
   "pygments_lexer": "ipython3",
   "version": "3.8.13"
  },
  "orig_nbformat": 4,
  "vscode": {
   "interpreter": {
    "hash": "10f2cbf92c41c74dc040668db41b18414a6c79d75d92825dbf20ce833c77f1ce"
   }
  }
 },
 "nbformat": 4,
 "nbformat_minor": 2
}
